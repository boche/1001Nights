{
 "cells": [
  {
   "cell_type": "code",
   "execution_count": 154,
   "metadata": {
    "collapsed": true
   },
   "outputs": [],
   "source": [
    "import sys\n",
    "import time\n",
    "import pickle\n",
    "import argparse\n",
    "from tokens import *\n",
    "import gzip\n",
    "import re\n",
    "import glob\n",
    "import random\n",
    "import xml.etree.ElementTree as ET"
   ]
  },
  {
   "cell_type": "code",
   "execution_count": 155,
   "metadata": {
    "collapsed": true
   },
   "outputs": [],
   "source": [
    "class Extractor:\n",
    "    def __init__(self, pattern):\n",
    "        self.filenames = glob.glob(pattern)\n",
    "        print(self.filenames)\n",
    "        self.file_id = 0\n",
    "        self.doc_cnt = 0\n",
    "        self.docs = []\n",
    "        \n",
    "    def textify(self, content):\n",
    "        return [x.lower() for x in re.findall(\"([^\\s)]+)\\)\", content)]\n",
    "    \n",
    "    def parse_doc(self, content):\n",
    "        self.doc_cnt += 1\n",
    "        if self.doc_cnt % 1000 == 0:\n",
    "            print(' - Generating Doc {}...'.format(self.doc_cnt))\n",
    "            \n",
    "        root = ET.fromstring(content)\n",
    "        docid = root.attrib['id']\n",
    "        headline = root.find(\"HEADLINE\")\n",
    "        if headline is not None:\n",
    "            headline = self.textify(headline.text)\n",
    "        body = []\n",
    "        text = root.find(\"TEXT\")\n",
    "        if text is not None:\n",
    "            for para in text:\n",
    "                body.extend(self.textify(para.text)) \n",
    "        self.docs.append((docid, headline, body))\n",
    "    \n",
    "    def gen_docs(self):\n",
    "        print('Extracting documents...')\n",
    "        content = \"\"\n",
    "        for filename in self.filenames:\n",
    "            print('Checking file: {}'.format(filename))\n",
    "            f = gzip.open(filename, 'r')\n",
    "            for line in f:    \n",
    "                line = line.decode(\"utf-8\")\n",
    "                if \"<DOC \" in line:\n",
    "                    content = \"\"\n",
    "                content += line\n",
    "                if \"</DOC>\" in line:\n",
    "                    self.parse_doc(content)  \n",
    "            f.close()\n",
    "            self.file_id += 1\n",
    "        print(' - Finish. Extracted {} documents'.format(self.doc_cnt))"
   ]
  },
  {
   "cell_type": "code",
   "execution_count": 156,
   "metadata": {
    "collapsed": true
   },
   "outputs": [],
   "source": [
    "def build_vocab(docs, path):\n",
    "    print(\"Building vocabulary...\")\n",
    "    vocab = {}\n",
    "    for idx, d in enumerate(docs):\n",
    "        if idx % 1000 == 0:\n",
    "            print(' - Scanning Doc {} out of {} docs...'.format(idx, len(docs)))\n",
    "        docid, headline, body = d\n",
    "        # print(docid, len(vocab))\n",
    "        \n",
    "        if len(headline) > 0 and len(body) > 0:\n",
    "            for w in headline:\n",
    "                vocab[w] = vocab.get(w, 0) + 1\n",
    "            for w in body:\n",
    "                vocab[w] = vocab.get(w, 0) + 1\n",
    "    pickle.dump(vocab, open(path, \"wb\"))\n",
    "    return vocab"
   ]
  },
  {
   "cell_type": "code",
   "execution_count": 157,
   "metadata": {
    "collapsed": true
   },
   "outputs": [],
   "source": [
    "def vectorize_docs(word2idx, docs):\n",
    "    print(\"Vectoring training data...\")\n",
    "    docs_vec = []\n",
    "    for idx, d in enumerate(docs):\n",
    "        if idx % 1000 == 0:\n",
    "            print(' - Vectoring Doc {} out of {} docs...'.format(idx, len(docs)))\n",
    "            \n",
    "        docid, headline, body = d\n",
    "        if len(headline) > 0 and len(body) > 0:\n",
    "            headline_vec = list(map(lambda x: word2idx.get(x, word2idx[UNK]), headline))\n",
    "            body_vec = list(map(lambda x: word2idx.get(x, word2idx[UNK]), body))\n",
    "            docs_vec.append((docid, headline_vec, body_vec))\n",
    "    print(' - Finish.')\n",
    "    return docs_vec"
   ]
  },
  {
   "cell_type": "code",
   "execution_count": 158,
   "metadata": {
    "collapsed": true
   },
   "outputs": [],
   "source": [
    "def build_index(vocab, vocab_size):\n",
    "    word_cnt = sorted(vocab.items(), key=lambda x: x[1], reverse=True)\n",
    "    word_cnt = word_cnt[:vocab_size]\n",
    "    word2idx = {}\n",
    "    idx2word = []\n",
    "    for word in [SOS, EOS, UNK]:\n",
    "        idx2word.append(word)\n",
    "        word2idx[word] = len(word2idx)\n",
    "    for word, _ in word_cnt:\n",
    "        idx2word.append(word)\n",
    "        word2idx[word] = len(word2idx)\n",
    "    print(' - Finish.')\n",
    "    return word2idx, idx2word\n"
   ]
  },
  {
   "cell_type": "code",
   "execution_count": 159,
   "metadata": {
    "collapsed": true
   },
   "outputs": [],
   "source": [
    "def truncate_vocab_size():\n",
    "    vocab_pkl_path = \"/data/ASR5/haomingc/1001Nights/vocab_nyt_eng_2010.pkl\"\n",
    "    vocab = pickle.load(open(vocab_pkl_path, 'rb'))\n",
    "    v_size = len(list(filter(lambda x: x[1] > 5, vocab.items())))\n",
    "    print(v_size)"
   ]
  },
  {
   "cell_type": "code",
   "execution_count": 167,
   "metadata": {},
   "outputs": [
    {
     "name": "stderr",
     "output_type": "stream",
     "text": [
      "usage: ipykernel_launcher.py [-h] [--raw_data RAW_DATA]\n",
      "                             [--save_path SAVE_PATH]\n",
      "                             [--vocab_fname VOCAB_FNAME]\n",
      "                             [--vocab_size VOCAB_SIZE]\n",
      "                             [--max_title_len MAX_TITLE_LEN]\n",
      "                             [--max_text_len MAX_TEXT_LEN]\n",
      "ipykernel_launcher.py: error: unrecognized arguments: -f /home/haomingc/.local/share/jupyter/runtime/kernel-d0271de9-c1be-405d-847f-2630665a9bb6.json\n"
     ]
    },
    {
     "ename": "SystemExit",
     "evalue": "2",
     "output_type": "error",
     "traceback": [
      "An exception has occurred, use %tb to see the full traceback.\n",
      "\u001b[0;31mSystemExit\u001b[0m\u001b[0;31m:\u001b[0m 2\n"
     ]
    },
    {
     "name": "stderr",
     "output_type": "stream",
     "text": [
      "/home/haomingc/anaconda3/lib/python3.6/site-packages/IPython/core/interactiveshell.py:2870: UserWarning: To exit: use 'exit', 'quit', or Ctrl-D.\n",
      "  warn(\"To exit: use 'exit', 'quit', or Ctrl-D.\", stacklevel=1)\n"
     ]
    }
   ],
   "source": [
    "if __name__ == \"__main__\":\n",
    "    argparser = argparse.ArgumentParser()\n",
    "    # argparser.add_argument('--rawdata', type=str, default=\n",
    "    #         \"/data/MM1/corpora/LDC2012T21/anno_eng_gigaword_5/data/xml/nyt_eng_20101*\")    \n",
    "    argparser.add_argument('--raw_data', type=str, default=\n",
    "            \"/data/MM1/corpora/LDC2012T21/anno_eng_gigaword_5/data/xml/*\")\n",
    "    argparser.add_argument('--save_path', type=str, default=\n",
    "            \"/data/ASR5/haomingc/1001Nights/\")\n",
    "\n",
    "    argparser.add_argument('--vocab_fname', type = str, default=\"vocab2010.pkl\")\n",
    "    argparser.add_argument('--vocab_size', type=int, default=50000)\n",
    "\n",
    "    argparser.add_argument('--max_title_len', type=int, default=20)\n",
    "    argparser.add_argument('--max_text_len', type=int, default=200)\n",
    "\n",
    "    args = argparser.parse_args()\n",
    "    \n",
    "    version = args.raw_data.split('/')[-1].replace('.xml.gz', '') \n",
    "    vocab_pkl_path = '{}vocab_{}.pkl'.format(args.save_path, version)\n",
    "    train_pkl_path = '{}train_data_{}.pkl'.format(args.save_path, version)\n",
    "    \n",
    "    reader = Extractor(args.raw_data)\n",
    "    reader.gen_docs()\n",
    "\n",
    "    train_data = {}\n",
    "    vocab = build_vocab(reader.docs, vocab_pkl_path)\n",
    "    \n",
    "    word2idx, idx2word = build_index(vocab, args.vocab_size)\n",
    "    train_data['word2idx'], train_data['idx2word'] = word2idx, idx2word\n",
    "    \n",
    "    train_data['text_vecs'] = vectorize_docs(word2idx, reader.docs)\n",
    "    pickle.dump(train_data, open(train_pkl_path, \"wb\"))\n"
   ]
  },
  {
   "cell_type": "code",
   "execution_count": null,
   "metadata": {
    "collapsed": true
   },
   "outputs": [],
   "source": []
  }
 ],
 "metadata": {
  "kernelspec": {
   "display_name": "Python 3",
   "language": "python",
   "name": "python3"
  },
  "language_info": {
   "codemirror_mode": {
    "name": "ipython",
    "version": 3
   },
   "file_extension": ".py",
   "mimetype": "text/x-python",
   "name": "python",
   "nbconvert_exporter": "python",
   "pygments_lexer": "ipython3",
   "version": "3.6.2"
  }
 },
 "nbformat": 4,
 "nbformat_minor": 2
}

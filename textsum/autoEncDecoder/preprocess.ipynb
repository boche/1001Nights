{
 "cells": [
  {
   "cell_type": "code",
   "execution_count": 124,
   "metadata": {
    "collapsed": true
   },
   "outputs": [],
   "source": [
    "import sys\n",
    "import time\n",
    "import pickle\n",
    "from tokens import *\n",
    "import gzip\n",
    "import re\n",
    "import glob\n",
    "import random\n",
    "import xml.etree.ElementTree as ET"
   ]
  },
  {
   "cell_type": "code",
   "execution_count": 125,
   "metadata": {
    "collapsed": true
   },
   "outputs": [],
   "source": [
    "class Extractor:\n",
    "    def __init__(self, pattern):\n",
    "        self.filenames = glob.glob(pattern)\n",
    "        # print(self.filenames)\n",
    "        self.file_id = 0\n",
    "        self.doc_cnt = 0\n",
    "        self.docs = []\n",
    "        \n",
    "    def textify(self, content):\n",
    "        return [x.lower() for x in re.findall(\"([^\\s)]+)\\)\", content)]\n",
    "    \n",
    "    def parse_doc(self, content):\n",
    "        self.doc_cnt += 1\n",
    "        if self.doc_cnt % 1000 == 0:\n",
    "            print(' - Generating Doc {}...'.format(self.doc_cnt))\n",
    "            \n",
    "        root = ET.fromstring(content)\n",
    "        docid = root.attrib['id']\n",
    "        headline = root.find(\"HEADLINE\")\n",
    "        if headline is not None:\n",
    "            headline = self.textify(headline.text)\n",
    "        body = []\n",
    "        text = root.find(\"TEXT\")\n",
    "        if text is not None:\n",
    "            for para in text:\n",
    "                body.extend(self.textify(para.text)) \n",
    "        self.docs.append((docid, headline, body))\n",
    "    \n",
    "    def gen_docs(self):\n",
    "        print('Extracting documents...')\n",
    "        content = \"\"\n",
    "        for filename in self.filenames:\n",
    "            print('Checking file: {}'.format(filename))\n",
    "            f = gzip.open(filename, 'r')\n",
    "            for line in f:    \n",
    "                line = line.decode(\"utf-8\")\n",
    "                if \"<DOC \" in line:\n",
    "                    content = \"\"\n",
    "                content += line\n",
    "                if \"</DOC>\" in line:\n",
    "                    self.parse_doc(content)  \n",
    "            f.close()\n",
    "            self.file_id += 1\n",
    "        print(' - Finish. Extracted {} documents'.format(self.doc_cnt))"
   ]
  },
  {
   "cell_type": "code",
   "execution_count": 126,
   "metadata": {
    "collapsed": true
   },
   "outputs": [],
   "source": [
    "def build_vocab(docs, path):\n",
    "    print(\"Building vocabulary...\")\n",
    "    vocab = {}\n",
    "    for idx, d in enumerate(docs):\n",
    "        if idx % 1000 == 0:\n",
    "            print(' - Scanning Doc {} out of {} docs...'.format(idx, len(docs)))\n",
    "        docid, headline, body = d\n",
    "        # print(docid, len(vocab))\n",
    "        \n",
    "        if len(headline) > 0 and len(body) > 0:\n",
    "            for w in headline:\n",
    "                vocab[w] = vocab.get(w, 0) + 1\n",
    "            for w in body:\n",
    "                vocab[w] = vocab.get(w, 0) + 1\n",
    "    pickle.dump(vocab, open(path, \"wb\"))\n",
    "    return vocab"
   ]
  },
  {
   "cell_type": "code",
   "execution_count": 127,
   "metadata": {
    "collapsed": true
   },
   "outputs": [],
   "source": [
    "def vectorize_docs(word2idx, docs):\n",
    "    print(\"Vectoring training data...\")\n",
    "    docs_vec = []\n",
    "    for idx, d in enumerate(docs):\n",
    "        if idx % 1000 == 0:\n",
    "            print(' - Vectoring Doc {} out of {} docs...'.format(idx, len(docs)))\n",
    "            \n",
    "        docid, headline, body = d\n",
    "        if len(headline) > 0 and len(body) > 0:\n",
    "            headline_vec = list(map(lambda x: word2idx.get(x, word2idx[UNK]), headline))\n",
    "            body_vec = list(map(lambda x: word2idx.get(x, word2idx[UNK]), body))\n",
    "            docs_vec.append((docid, headline_vec, body_vec))\n",
    "    print(' - Finish.')\n",
    "    return docs_vec"
   ]
  },
  {
   "cell_type": "code",
   "execution_count": 128,
   "metadata": {
    "collapsed": true
   },
   "outputs": [],
   "source": [
    "def build_index(vocab, vocab_size):\n",
    "    word_cnt = sorted(vocab.items(), key=lambda x: x[1], reverse=True)\n",
    "    word_cnt = word_cnt[:vocab_size]\n",
    "    word2idx = {}\n",
    "    idx2word = []\n",
    "    for word in [SOS, EOS, UNK]:\n",
    "        idx2word.append(word)\n",
    "        word2idx[word] = len(word2idx)\n",
    "    for word, _ in word_cnt:\n",
    "        idx2word.append(word)\n",
    "        word2idx[word] = len(word2idx)\n",
    "    print(' - Finish.')\n",
    "    return word2idx, idx2word\n"
   ]
  },
  {
   "cell_type": "code",
   "execution_count": 129,
   "metadata": {
    "collapsed": true
   },
   "outputs": [],
   "source": [
    "def vocab_size():\n",
    "    vocab_pkl_path = \"/data/ASR5/haomingc/1001Nights/vocab_nyt_eng_2010.pkl\"\n",
    "    vocab = pickle.load(open(vocab_pkl_path, 'rb'))\n",
    "    v_size = len(list(filter(lambda x: x[1] > 5, vocab.items())))\n",
    "    print(v_size)"
   ]
  },
  {
   "cell_type": "code",
   "execution_count": null,
   "metadata": {},
   "outputs": [
    {
     "name": "stdout",
     "output_type": "stream",
     "text": [
      "Extracting documents...\n",
      "Checking file: /data/MM1/corpora/LDC2012T21/anno_eng_gigaword_5/data/xml/nyt_eng_201001.xml.gz\n",
      " - Generating Doc 1000...\n",
      " - Generating Doc 2000...\n"
     ]
    }
   ],
   "source": [
    "if __name__ == \"__main__\":\n",
    "    # dataset = \"/data/MM1/corpora/LDC2012T21/anno_eng_gigaword_5/data/xml/nyt_eng_2010*\"\n",
    "    dataset = \"/data/MM1/corpora/LDC2012T21/anno_eng_gigaword_5/data/xml/nyt_eng_201001.xml.gz\"\n",
    "    \n",
    "    vocab_size = 50000\n",
    "    output_path = \"/data/ASR5/haomingc/1001Nights/\"\n",
    "    version = dataset.split('/')[-1].replace('.xml.gz', 'vocabSize{}'.format(vocab_size)) \n",
    "    # emb_pkl_path = '{}embedding_{}.pkl'.format(output_path, version)\n",
    "    vocab_pkl_path = '{}vocab_{}.pkl'.format(output_path, version)\n",
    "    train_pkl_path = '{}train_data_{}.pkl'.format(output_path, version)\n",
    "    \n",
    "    reader = Extractor(dataset)\n",
    "    reader.gen_docs()\n",
    "\n",
    "    train_data = {}\n",
    "    vocab = build_vocab(reader.docs, vocab_pkl_path)\n",
    "    \n",
    "    word2idx, idx2word = build_index(vocab, vocab_size)\n",
    "    train_data['word2idx'], train_data['idx2word'] = word2idx, idx2word\n",
    "    \n",
    "    train_data['text_vecs'] = vectorize_docs(word2idx, reader.docs)\n",
    "    pickle.dump(train_data, open(train_pkl_path, \"wb\"))\n",
    "\n",
    "#     vocab_size()\n"
   ]
  },
  {
   "cell_type": "code",
   "execution_count": null,
   "metadata": {
    "collapsed": true
   },
   "outputs": [],
   "source": []
  }
 ],
 "metadata": {
  "kernelspec": {
   "display_name": "Python 3",
   "language": "python",
   "name": "python3"
  },
  "language_info": {
   "codemirror_mode": {
    "name": "ipython",
    "version": 3
   },
   "file_extension": ".py",
   "mimetype": "text/x-python",
   "name": "python",
   "nbconvert_exporter": "python",
   "pygments_lexer": "ipython3",
   "version": "3.6.2"
  }
 },
 "nbformat": 4,
 "nbformat_minor": 2
}
